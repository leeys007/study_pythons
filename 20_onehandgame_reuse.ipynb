{
  "nbformat": 4,
  "nbformat_minor": 0,
  "metadata": {
    "colab": {
      "provenance": [],
      "authorship_tag": "ABX9TyNAGYRsJ4Bo3h2VzAgNC9Qg",
      "include_colab_link": true
    },
    "kernelspec": {
      "name": "python3",
      "display_name": "Python 3"
    },
    "language_info": {
      "name": "python"
    }
  },
  "cells": [
    {
      "cell_type": "markdown",
      "metadata": {
        "id": "view-in-github",
        "colab_type": "text"
      },
      "source": [
        "<a href=\"https://colab.research.google.com/github/leeys007/study_pythons/blob/main/20_onehandgame_reuse.ipynb\" target=\"_parent\"><img src=\"https://colab.research.google.com/assets/colab-badge.svg\" alt=\"Open In Colab\"/></a>"
      ]
    },
    {
      "cell_type": "markdown",
      "source": [
        "## 변수 재사용"
      ],
      "metadata": {
        "id": "Xr0MSNxpyTwK"
      }
    },
    {
      "cell_type": "code",
      "execution_count": null,
      "metadata": {
        "colab": {
          "base_uri": "https://localhost:8080/"
        },
        "id": "VxBqa3rOtLwh",
        "outputId": "fc7e74fb-b8e9-45fc-b062-e092ff565475"
      },
      "outputs": [
        {
          "output_type": "stream",
          "name": "stdout",
          "text": [
            "1 0 2\n"
          ]
        }
      ],
      "source": [
        "first_string=\"1\"\n",
        "second_string=\"0\"\n",
        "third_string=\"2\"\n",
        "print(first_string, second_string, third_string)"
      ]
    },
    {
      "cell_type": "code",
      "source": [
        "temp_string=first_string\n",
        "first_string=second_string\n",
        "second_string=temp_string\n",
        "print(first_string, second_string, third_string)"
      ],
      "metadata": {
        "colab": {
          "base_uri": "https://localhost:8080/"
        },
        "id": "1SiQvWXxtxRB",
        "outputId": "bba33fb9-f692-47f8-9ea8-7999534bedbc"
      },
      "execution_count": null,
      "outputs": [
        {
          "output_type": "stream",
          "name": "stdout",
          "text": [
            "0 1 2\n"
          ]
        }
      ]
    },
    {
      "cell_type": "code",
      "source": [
        "temp_string=first_string\n",
        "first_string=third_string\n",
        "third_string=temp_string\n",
        "print(first_string, second_string, third_string)"
      ],
      "metadata": {
        "colab": {
          "base_uri": "https://localhost:8080/"
        },
        "id": "DDiGNJT9xBFp",
        "outputId": "bd1a5f1a-6021-4d89-b889-bc0fdc6a6665"
      },
      "execution_count": null,
      "outputs": [
        {
          "output_type": "stream",
          "name": "stdout",
          "text": [
            "2 1 0\n"
          ]
        }
      ]
    },
    {
      "cell_type": "code",
      "source": [
        "temp_string=third_string\n",
        "third_string=second_string\n",
        "second_string=temp_string\n",
        "print(first_string, second_string, third_string)"
      ],
      "metadata": {
        "colab": {
          "base_uri": "https://localhost:8080/"
        },
        "id": "zA7ULJ3SxsuB",
        "outputId": "82ac0e90-3611-494d-b91f-338a88a93834"
      },
      "execution_count": null,
      "outputs": [
        {
          "output_type": "stream",
          "name": "stdout",
          "text": [
            "2 0 1\n"
          ]
        }
      ]
    }
  ]
}