{
  "nbformat": 4,
  "nbformat_minor": 0,
  "metadata": {
    "colab": {
      "provenance": [],
      "include_colab_link": true
    },
    "kernelspec": {
      "name": "python3",
      "display_name": "Python 3"
    },
    "language_info": {
      "name": "python"
    }
  },
  "cells": [
    {
      "cell_type": "markdown",
      "metadata": {
        "id": "view-in-github",
        "colab_type": "text"
      },
      "source": [
        "<a href=\"https://colab.research.google.com/github/leeys007/study_pythons/blob/main/onehandgame_leeyongsung.ipynb\" target=\"_parent\"><img src=\"https://colab.research.google.com/assets/colab-badge.svg\" alt=\"Open In Colab\"/></a>"
      ]
    },
    {
      "cell_type": "markdown",
      "source": [
        "## Onehandgame_Two card #1"
      ],
      "metadata": {
        "id": "VjV4v5fijivI"
      }
    },
    {
      "cell_type": "code",
      "execution_count": null,
      "metadata": {
        "id": "b1YAuOW1ruzb",
        "colab": {
          "base_uri": "https://localhost:8080/"
        },
        "outputId": "ccf3ccaf-6c48-42d4-f540-59ac1ab45633"
      },
      "outputs": [
        {
          "output_type": "stream",
          "name": "stdout",
          "text": [
            "first_card : 1, second_card : blank, third_card : 2\n"
          ]
        }
      ],
      "source": [
        "first_card = 1  # 최초 위치\n",
        "second_card = \"blank\"\n",
        "third_card = 2\n",
        "all_card = f\"first_card : {first_card}, second_card : {second_card}, third_card : {third_card}\"\n",
        "print(all_card)"
      ]
    },
    {
      "cell_type": "code",
      "source": [
        "first_card = \"blank\"  # 1차 이동\n",
        "second_card = 1\n",
        "third_card = 2\n",
        "all_card = f\"first_card : {first_card}, second_card : {second_card}, third_card : {third_card}\"\n",
        "print(all_card)"
      ],
      "metadata": {
        "colab": {
          "base_uri": "https://localhost:8080/"
        },
        "id": "oqaG2B7gxa_z",
        "outputId": "7a35f0a9-61f0-4105-a459-9c31b40119df"
      },
      "execution_count": null,
      "outputs": [
        {
          "output_type": "stream",
          "name": "stdout",
          "text": [
            "first_card : blank, second_card : 1, third_card : 2\n"
          ]
        }
      ]
    },
    {
      "cell_type": "code",
      "source": [
        "first_card = 2  # 2차 이동\n",
        "second_card = 1\n",
        "third_card = \"blank\"\n",
        "all_card = f\"first_card : {first_card}, second_card : {second_card}, third_card : {third_card}\"\n",
        "print(all_card)"
      ],
      "metadata": {
        "colab": {
          "base_uri": "https://localhost:8080/"
        },
        "id": "LkA_FVnCxmGK",
        "outputId": "44cfa899-3125-4fb4-cfe6-97b58235b9df"
      },
      "execution_count": null,
      "outputs": [
        {
          "output_type": "stream",
          "name": "stdout",
          "text": [
            "first_card : 2, second_card : 1, third_card : blank\n"
          ]
        }
      ]
    },
    {
      "cell_type": "code",
      "source": [
        "first_card = 2  # 3차 이동(최종)\n",
        "second_card = \"blank\"\n",
        "third_card = 1\n",
        "all_card = f\"first_card : {first_card}, second_card : {second_card}, third_card : {third_card}\"\n",
        "print(all_card)"
      ],
      "metadata": {
        "colab": {
          "base_uri": "https://localhost:8080/"
        },
        "id": "vLqj2hCCx5as",
        "outputId": "6913b774-3909-4de8-df01-66fa95361b4d"
      },
      "execution_count": null,
      "outputs": [
        {
          "output_type": "stream",
          "name": "stdout",
          "text": [
            "first_card : 2, second_card : blank, third_card : 1\n"
          ]
        }
      ]
    },
    {
      "cell_type": "markdown",
      "source": [
        "## Onehandgame_Two card #2"
      ],
      "metadata": {
        "id": "B9B8cSlhjvme"
      }
    },
    {
      "cell_type": "code",
      "source": [
        "card_position = \"102\"  # \"0\"은 빈자리\n",
        "all_card = f\"first_position : {card_position[0]}, second_position : {card_position[1]}, third_position : {card_position[2]}\"\n",
        "print(all_card)"
      ],
      "metadata": {
        "colab": {
          "base_uri": "https://localhost:8080/"
        },
        "id": "Gsf2XEkEjeh5",
        "outputId": "7bb7b0af-cb46-46ee-fc04-c59aa250d256"
      },
      "execution_count": null,
      "outputs": [
        {
          "output_type": "stream",
          "name": "stdout",
          "text": [
            "first_position : 1, second_position : 0, third_position : 2\n"
          ]
        }
      ]
    },
    {
      "cell_type": "code",
      "source": [
        "card_position = \"012\"  # \"0\"은 빈자리\n",
        "all_card = f\"first_position : {card_position[0]}, second_position : {card_position[1]}, third_position : {card_position[2]}\"\n",
        "print(all_card)"
      ],
      "metadata": {
        "colab": {
          "base_uri": "https://localhost:8080/"
        },
        "id": "_yFIwBoBlFWl",
        "outputId": "c94bdfa2-9c73-42f1-b2c0-106afd4a63fc"
      },
      "execution_count": null,
      "outputs": [
        {
          "output_type": "stream",
          "name": "stdout",
          "text": [
            "first_position : 0, second_position : 1, third_position : 2\n"
          ]
        }
      ]
    },
    {
      "cell_type": "code",
      "source": [
        "card_position = \"210\"  # \"0\"은 빈자리\n",
        "all_card = f\"first_position : {card_position[0]}, second_position : {card_position[1]}, third_position : {card_position[2]}\"\n",
        "print(all_card)"
      ],
      "metadata": {
        "colab": {
          "base_uri": "https://localhost:8080/"
        },
        "id": "ugkPXZImlPGO",
        "outputId": "2cd9db9b-b429-4271-dea5-50313b06ef8f"
      },
      "execution_count": null,
      "outputs": [
        {
          "output_type": "stream",
          "name": "stdout",
          "text": [
            "first_position : 2, second_position : 1, third_position : 0\n"
          ]
        }
      ]
    },
    {
      "cell_type": "code",
      "source": [
        "card_position = \"201\"  # \"0\"은 빈자리\n",
        "all_card = f\"first_position : {card_position[0]}, second_position : {card_position[1]}, third_position : {card_position[2]}\"\n",
        "print(all_card)"
      ],
      "metadata": {
        "colab": {
          "base_uri": "https://localhost:8080/"
        },
        "id": "A8ANl2V5lbQi",
        "outputId": "c226a614-36ef-49e0-985f-efd1f219f010"
      },
      "execution_count": null,
      "outputs": [
        {
          "output_type": "stream",
          "name": "stdout",
          "text": [
            "first_position : 2, second_position : 0, third_position : 1\n"
          ]
        }
      ]
    },
    {
      "cell_type": "code",
      "source": [
        "print(\"push to github\")"
      ],
      "metadata": {
        "colab": {
          "base_uri": "https://localhost:8080/"
        },
        "id": "4KjhJWciY6Dc",
        "outputId": "86780b61-3818-4b66-ca47-4c409b8dae55"
      },
      "execution_count": 1,
      "outputs": [
        {
          "output_type": "stream",
          "name": "stdout",
          "text": [
            "push to github\n"
          ]
        }
      ]
    }
  ]
}