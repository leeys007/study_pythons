{
  "nbformat": 4,
  "nbformat_minor": 0,
  "metadata": {
    "colab": {
      "provenance": [],
      "authorship_tag": "ABX9TyNBUQ9ojKJwn/vdKnQSBI1n",
      "include_colab_link": true
    },
    "kernelspec": {
      "name": "python3",
      "display_name": "Python 3"
    },
    "language_info": {
      "name": "python"
    }
  },
  "cells": [
    {
      "cell_type": "markdown",
      "metadata": {
        "id": "view-in-github",
        "colab_type": "text"
      },
      "source": [
        "<a href=\"https://colab.research.google.com/github/leeys007/study_pythons/blob/main/codes/30_functions.ipynb\" target=\"_parent\"><img src=\"https://colab.research.google.com/assets/colab-badge.svg\" alt=\"Open In Colab\"/></a>"
      ]
    },
    {
      "cell_type": "markdown",
      "source": [
        "## function\n",
        "- 1원칙 : 기본 구성\n",
        "```\n",
        "def function_name() :\n",
        "  execute codes (변수 + 약속어)\n",
        "```\n",
        "- 2원칙 : params와 return\n",
        "```\n",
        "def function_name(param_first, ...) :\n",
        "  execute codes (변수 + 약속어)\n",
        "  return result\n",
        "```"
      ],
      "metadata": {
        "id": "aoCkjaPK-TcI"
      }
    },
    {
      "cell_type": "markdown",
      "source": [
        "### 기존 코드를 함수화"
      ],
      "metadata": {
        "id": "bKRong-oHfaD"
      }
    },
    {
      "cell_type": "code",
      "source": [
        "input_first_value = 4\n",
        "input_second_value = 5\n",
        "result_plus = input_first_value + input_second_value\n",
        "print(f'{result_plus} / {type(result_plus)}= {input_first_value} + {input_second_value}')"
      ],
      "metadata": {
        "id": "otql_6M4HjHz"
      },
      "execution_count": null,
      "outputs": []
    },
    {
      "cell_type": "markdown",
      "source": [
        "### 1 원칙 적용"
      ],
      "metadata": {
        "id": "od-jVilKHnvF"
      }
    },
    {
      "cell_type": "code",
      "source": [
        "def add() :\n",
        "  input_first_value = 4\n",
        "  input_second_value = 5\n",
        "  result_plus = input_first_value + input_second_value\n",
        "  print(f'{result_plus} / {type(result_plus)}= {input_first_value} + {input_second_value}')"
      ],
      "metadata": {
        "id": "rbAQS1lbHs4W"
      },
      "execution_count": null,
      "outputs": []
    },
    {
      "cell_type": "markdown",
      "source": [
        "```\n",
        "# 코드로 형식 지정됨\n",
        "```\n",
        "\n",
        "### 2 원칙 적용"
      ],
      "metadata": {
        "id": "fNu3fr6SH-US"
      }
    },
    {
      "cell_type": "markdown",
      "source": [
        "#### parameters"
      ],
      "metadata": {
        "id": "X9EIEfy20WhL"
      }
    },
    {
      "cell_type": "code",
      "execution_count": 3,
      "metadata": {
        "id": "hExb7cqO-RU3"
      },
      "outputs": [],
      "source": [
        "def add(input_first, input_second) :    # call by values\n",
        "  result_plus = input_first + input_second\n",
        "  print(f'{result_plus} = {input_first} + {input_second}')\n",
        "\n",
        "def subtract(input_first, input_second) :    # 뺄셈 함수\n",
        "  result_minus = input_first - input_second\n",
        "  print(f'{result_minus} = {input_first} - {input_second}')\n",
        "\n",
        "def multiply(input_first, input_second) :    # 곱셈 함수\n",
        "  result_multiple = input_first * input_second\n",
        "  print(f'{result_multiple} = {input_first} * {input_second}')\n",
        "\n",
        "def divide(input_first, input_second) :    # 나눗셈 함수\n",
        "  result_division = input_first / input_second\n",
        "  print(f'{result_division} = {input_first} / {input_second}')"
      ]
    },
    {
      "cell_type": "code",
      "source": [
        "# add() 호출\n",
        "add(4, 5)"
      ],
      "metadata": {
        "colab": {
          "base_uri": "https://localhost:8080/"
        },
        "id": "WfoZ3pdiCmzx",
        "outputId": "28adf807-bf29-4b55-bc2c-ce2b0e7781a5"
      },
      "execution_count": 4,
      "outputs": [
        {
          "output_type": "stream",
          "name": "stdout",
          "text": [
            "9 = 4 + 5\n"
          ]
        }
      ]
    },
    {
      "cell_type": "code",
      "source": [
        "first_input = int(input('first : '))\n",
        "second_input = int(input('second : '))"
      ],
      "metadata": {
        "colab": {
          "base_uri": "https://localhost:8080/"
        },
        "id": "f5vImthLDY6J",
        "outputId": "236d6233-49cf-45b1-fff1-6a9235c621b2"
      },
      "execution_count": 5,
      "outputs": [
        {
          "name": "stdout",
          "output_type": "stream",
          "text": [
            "first : 4\n",
            "second : 5\n"
          ]
        }
      ]
    },
    {
      "cell_type": "code",
      "source": [
        "add(first_input, second_input)  # 함수의 재사용"
      ],
      "metadata": {
        "colab": {
          "base_uri": "https://localhost:8080/"
        },
        "id": "LA0zKAMrETpT",
        "outputId": "d617b7eb-6d19-4e3b-b825-29fe9d663ce1"
      },
      "execution_count": 6,
      "outputs": [
        {
          "output_type": "stream",
          "name": "stdout",
          "text": [
            "9 = 4 + 5\n"
          ]
        }
      ]
    },
    {
      "cell_type": "markdown",
      "source": [
        "#### return\n",
        " - 함수 분할 기준 : 마이크로(세부) 업무 단위, 하나의 작업만 수행"
      ],
      "metadata": {
        "id": "eS08S-2_0a4C"
      }
    },
    {
      "cell_type": "code",
      "execution_count": 16,
      "metadata": {
        "id": "kZWa1yyj0jhj"
      },
      "outputs": [],
      "source": [
        "def add(input_first, input_second) :    # call by values\n",
        "  result_plus = input_first + input_second\n",
        "  # print(f'{result_plus} = {input_first} + {input_second}')\n",
        "  return result_plus    # 변수의 사용 범위를 고려(함수 내 변수만 사용 가능)"
      ]
    },
    {
      "cell_type": "code",
      "source": [
        "add(4, 6)"
      ],
      "metadata": {
        "colab": {
          "base_uri": "https://localhost:8080/"
        },
        "id": "Ndlltdk_2Sos",
        "outputId": "dd5edf93-0a5b-48ba-9e12-b51ab205242c"
      },
      "execution_count": 17,
      "outputs": [
        {
          "output_type": "execute_result",
          "data": {
            "text/plain": [
              "10"
            ]
          },
          "metadata": {},
          "execution_count": 17
        }
      ]
    },
    {
      "cell_type": "code",
      "source": [
        "# '=' 촤측의 변수에는 동일한 값이 들어 간다.\n",
        "result = 10                 # 변수에 고정값 입력\n",
        "result = result_plus        # 변수에 변수 값 입력\n",
        "result_return = add(4, 6)   # 변수에 함수 값 입력"
      ],
      "metadata": {
        "id": "_l2R2Suj4J9j"
      },
      "execution_count": 19,
      "outputs": []
    },
    {
      "cell_type": "code",
      "source": [
        "?print"
      ],
      "metadata": {
        "id": "8cB5I3m1Kb2_"
      },
      "execution_count": 20,
      "outputs": []
    }
  ]
}