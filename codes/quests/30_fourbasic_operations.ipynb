{
  "nbformat": 4,
  "nbformat_minor": 0,
  "metadata": {
    "colab": {
      "provenance": [],
      "authorship_tag": "ABX9TyNd66uHCn9eUbdEf7p5OhsZ",
      "include_colab_link": true
    },
    "kernelspec": {
      "name": "python3",
      "display_name": "Python 3"
    },
    "language_info": {
      "name": "python"
    }
  },
  "cells": [
    {
      "cell_type": "markdown",
      "metadata": {
        "id": "view-in-github",
        "colab_type": "text"
      },
      "source": [
        "<a href=\"https://colab.research.google.com/github/leeys007/study_pythons/blob/main/codes/quests/30_fourbasic_operations.ipynb\" target=\"_parent\"><img src=\"https://colab.research.google.com/assets/colab-badge.svg\" alt=\"Open In Colab\"/></a>"
      ]
    },
    {
      "cell_type": "code",
      "execution_count": 4,
      "metadata": {
        "colab": {
          "base_uri": "https://localhost:8080/"
        },
        "id": "ydlk0whXYOSI",
        "outputId": "3a218cc0-ec48-4468-c200-c922ddba89ba"
      },
      "outputs": [
        {
          "output_type": "stream",
          "name": "stdout",
          "text": [
            "a = 10\n",
            "b = 5\n",
            "a + b = 15, <class 'int'>\n",
            "a - b = 5, <class 'int'>\n",
            "a * b = 50, <class 'int'>\n",
            "a / b = 2.0, <class 'float'>\n",
            "a % b = 0, <class 'int'>\n"
          ]
        }
      ],
      "source": [
        "a = input('a = ')\n",
        "b = input('b = ')\n",
        "a = int(a)\n",
        "b = int(b)\n",
        "print(f'a + b = {a + b}, {type(a+b)}')\n",
        "print(f'a - b = {a - b}, {type(a-b)}')\n",
        "print(f'a * b = {a * b}, {type(a*b)}')\n",
        "print(f'a / b = {a / b}, {type(a/b)}')\n",
        "print(f'a % b = {a % b}, {type(a%b)}')"
      ]
    }
  ]
}