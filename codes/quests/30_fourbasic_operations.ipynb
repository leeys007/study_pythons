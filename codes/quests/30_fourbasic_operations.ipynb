{
  "nbformat": 4,
  "nbformat_minor": 0,
  "metadata": {
    "colab": {
      "provenance": [],
      "authorship_tag": "ABX9TyNd66uHCn9eUbdEf7p5OhsZ",
      "include_colab_link": true
    },
    "kernelspec": {
      "name": "python3",
      "display_name": "Python 3"
    },
    "language_info": {
      "name": "python"
    }
  },
  "cells": [
    {
      "cell_type": "markdown",
      "metadata": {
        "id": "view-in-github",
        "colab_type": "text"
      },
      "source": [
        "<a href=\"https://colab.research.google.com/github/leeys007/study_pythons/blob/main/codes/quests/30_fourbasic_operations.ipynb\" target=\"_parent\"><img src=\"https://colab.research.google.com/assets/colab-badge.svg\" alt=\"Open In Colab\"/></a>"
      ]
    },
    {
      "cell_type": "code",
      "execution_count": null,
      "metadata": {
        "id": "ydlk0whXYOSI"
      },
      "outputs": [],
      "source": [
        "a = input('a = ')\n",
        "b = input('b = ')\n",
        "a = int(a)\n",
        "b = int(b)\n",
        "print(f'a + b = {a + b}, {type(a+b)}')\n",
        "print(f'a - b = {a - b}, {type(a-b)}')\n",
        "print(f'a * b = {a * b}, {type(a*b)}')\n",
        "print(f'a / b = {a / b}, {type(a/b)}')\n",
        "print(f'a % b = {a % b}, {type(a%b)}')"
      ]
    }
  ]
}