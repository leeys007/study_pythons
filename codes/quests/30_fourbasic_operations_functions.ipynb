{
  "nbformat": 4,
  "nbformat_minor": 0,
  "metadata": {
    "colab": {
      "provenance": [],
      "authorship_tag": "ABX9TyPBWENDyfOrrOYI0rsoUMtI",
      "include_colab_link": true
    },
    "kernelspec": {
      "name": "python3",
      "display_name": "Python 3"
    },
    "language_info": {
      "name": "python"
    }
  },
  "cells": [
    {
      "cell_type": "markdown",
      "metadata": {
        "id": "view-in-github",
        "colab_type": "text"
      },
      "source": [
        "<a href=\"https://colab.research.google.com/github/leeys007/study_pythons/blob/main/codes/quests/30_fourbasic_operations_functions.ipynb\" target=\"_parent\"><img src=\"https://colab.research.google.com/assets/colab-badge.svg\" alt=\"Open In Colab\"/></a>"
      ]
    },
    {
      "cell_type": "markdown",
      "source": [
        "## 함수를 활용한 사칙연산기"
      ],
      "metadata": {
        "id": "q6pJL1_y2HWH"
      }
    },
    {
      "cell_type": "code",
      "source": [
        "def add() :    # 덧셈 함수\n",
        "  input_first_value = 4\n",
        "  input_second_value = 5\n",
        "  result_plus = input_first_value + input_second_value\n",
        "  print(f'{result_plus} / {type(result_plus)}= {input_first_value} + {input_second_value}')\n",
        "\n",
        "add()"
      ],
      "metadata": {
        "colab": {
          "base_uri": "https://localhost:8080/"
        },
        "collapsed": true,
        "id": "_hTLozpe24D-",
        "outputId": "ac69da69-0741-4450-8c85-86b5dfc1e461"
      },
      "execution_count": 9,
      "outputs": [
        {
          "output_type": "stream",
          "name": "stdout",
          "text": [
            "9 / <class 'int'>= 4 + 5\n"
          ]
        }
      ]
    },
    {
      "cell_type": "code",
      "source": [
        "def subtract() :    # 뺄셈 함수\n",
        "  input_first_value = 4\n",
        "  input_second_value = 5\n",
        "  result_minus = input_first_value - input_second_value\n",
        "  print(f'{result_minus} / {type(result_minus)}= {input_first_value} - {input_second_value}')\n",
        "\n",
        "subtract()"
      ],
      "metadata": {
        "colab": {
          "base_uri": "https://localhost:8080/"
        },
        "id": "p_9S8pDd8UmB",
        "outputId": "d13e0910-d5d2-41a8-a346-ba71d7619925"
      },
      "execution_count": 10,
      "outputs": [
        {
          "output_type": "stream",
          "name": "stdout",
          "text": [
            "-1 / <class 'int'>= 4 - 5\n"
          ]
        }
      ]
    },
    {
      "cell_type": "code",
      "source": [
        "def multiply() :    # 곱셈 함수\n",
        "  input_first_value = 4\n",
        "  input_second_value = 5\n",
        "  result_multiple = input_first_value * input_second_value\n",
        "  print(f'{result_multiple} / {type(result_multiple)} = {input_first_value} * {input_second_value}')\n",
        "\n",
        "multiply()"
      ],
      "metadata": {
        "colab": {
          "base_uri": "https://localhost:8080/"
        },
        "id": "DjsKkYHM8WPQ",
        "outputId": "96be28da-15d6-41e4-e3fe-b8a87061da6c"
      },
      "execution_count": 11,
      "outputs": [
        {
          "output_type": "stream",
          "name": "stdout",
          "text": [
            "20 / <class 'int'> = 4 * 5\n"
          ]
        }
      ]
    },
    {
      "cell_type": "code",
      "source": [
        "def divide() :    # 나눗셈 함수\n",
        "  input_first_value = 4\n",
        "  input_second_value = 5\n",
        "  result_division = input_first_value / input_second_value\n",
        "  print(f'{result_division} / {type(result_division)} = {input_first_value} / {input_second_value}')\n",
        "\n",
        "divide()"
      ],
      "metadata": {
        "colab": {
          "base_uri": "https://localhost:8080/"
        },
        "id": "L_DVQzGT8Xp3",
        "outputId": "9a6ba072-cd48-4b16-f9c8-507284842163"
      },
      "execution_count": 12,
      "outputs": [
        {
          "output_type": "stream",
          "name": "stdout",
          "text": [
            "0.8 / <class 'float'> = 4 / 5\n"
          ]
        }
      ]
    }
  ]
}