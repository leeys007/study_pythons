{
  "nbformat": 4,
  "nbformat_minor": 0,
  "metadata": {
    "colab": {
      "provenance": [],
      "authorship_tag": "ABX9TyPiME7ggjXpKUHKCjEOCbxL",
      "include_colab_link": true
    },
    "kernelspec": {
      "name": "python3",
      "display_name": "Python 3"
    },
    "language_info": {
      "name": "python"
    }
  },
  "cells": [
    {
      "cell_type": "markdown",
      "metadata": {
        "id": "view-in-github",
        "colab_type": "text"
      },
      "source": [
        "<a href=\"https://colab.research.google.com/github/leeys007/study_pythons/blob/main/codes/quests/60_multiplication_table.ipynb\" target=\"_parent\"><img src=\"https://colab.research.google.com/assets/colab-badge.svg\" alt=\"Open In Colab\"/></a>"
      ]
    },
    {
      "cell_type": "markdown",
      "source": [
        "## 구구단"
      ],
      "metadata": {
        "id": "FgNWEIcpdk6z"
      }
    },
    {
      "cell_type": "code",
      "execution_count": 11,
      "metadata": {
        "colab": {
          "base_uri": "https://localhost:8080/"
        },
        "id": "xkBUFCzDdfZ6",
        "outputId": "ded90b2d-d4f9-4e15-f62e-d9295d05f0e5"
      },
      "outputs": [
        {
          "output_type": "stream",
          "name": "stdout",
          "text": [
            "1 ~ 9 사이의 정수를 입력하세요 : 5\n",
            "5 X 1 = 5\n",
            "5 X 2 = 10\n",
            "5 X 3 = 15\n",
            "5 X 4 = 20\n",
            "5 X 5 = 25\n",
            "5 X 6 = 30\n",
            "5 X 7 = 35\n",
            "5 X 8 = 40\n",
            "5 X 9 = 45\n"
          ]
        }
      ],
      "source": [
        "N = int(input('1 ~ 9 사이의 정수를 입력하세요 : '))\n",
        "\n",
        "if (N < 1) or (N > 9) :\n",
        "  print(f'범위를 벗어난 정수를 입력했습니다.')\n",
        "else :\n",
        "  i = 1\n",
        "  while i < 10 :\n",
        "    print(f'{N} X {i} = {N * i}')\n",
        "    i = i + 1"
      ]
    }
  ]
}