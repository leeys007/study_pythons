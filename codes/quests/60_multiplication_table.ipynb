{
  "nbformat": 4,
  "nbformat_minor": 0,
  "metadata": {
    "colab": {
      "provenance": [],
      "authorship_tag": "ABX9TyP4jKkyZi0v08C0yrR54Pfg",
      "include_colab_link": true
    },
    "kernelspec": {
      "name": "python3",
      "display_name": "Python 3"
    },
    "language_info": {
      "name": "python"
    }
  },
  "cells": [
    {
      "cell_type": "markdown",
      "metadata": {
        "id": "view-in-github",
        "colab_type": "text"
      },
      "source": [
        "<a href=\"https://colab.research.google.com/github/leeys007/study_pythons/blob/main/codes/quests/60_multiplication_table.ipynb\" target=\"_parent\"><img src=\"https://colab.research.google.com/assets/colab-badge.svg\" alt=\"Open In Colab\"/></a>"
      ]
    },
    {
      "cell_type": "markdown",
      "source": [
        "## 구구단"
      ],
      "metadata": {
        "id": "FgNWEIcpdk6z"
      }
    },
    {
      "cell_type": "code",
      "execution_count": 9,
      "metadata": {
        "colab": {
          "base_uri": "https://localhost:8080/"
        },
        "id": "xkBUFCzDdfZ6",
        "outputId": "69051551-446c-415f-8ed7-a69b9dac76a4"
      },
      "outputs": [
        {
          "output_type": "stream",
          "name": "stdout",
          "text": [
            "1 ~ 9 사이의 정수를 입력하세요 : 7\n",
            "7 X 1 = 7\n",
            "7 X 2 = 14\n",
            "7 X 3 = 21\n",
            "7 X 4 = 28\n",
            "7 X 5 = 35\n",
            "7 X 6 = 42\n",
            "7 X 7 = 49\n",
            "7 X 8 = 56\n",
            "7 X 9 = 63\n"
          ]
        }
      ],
      "source": [
        "N = int(input('1 ~ 9 사이의 정수를 입력하세요 : '))\n",
        "\n",
        "if (N < 1) or (N > 9) :\n",
        "  print(f'1 ~ 9 사이의 정수를 입력하세요')\n",
        "else :\n",
        "  i = 1\n",
        "  while i < 10 :\n",
        "    print(f'{N} X {i} = {N * i}')\n",
        "    i = i + 1"
      ]
    }
  ]
}