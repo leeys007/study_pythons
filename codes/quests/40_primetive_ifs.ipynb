{
  "nbformat": 4,
  "nbformat_minor": 0,
  "metadata": {
    "colab": {
      "provenance": [],
      "authorship_tag": "ABX9TyO9GRAhNfs3I0Co/bUVGmkF",
      "include_colab_link": true
    },
    "kernelspec": {
      "name": "python3",
      "display_name": "Python 3"
    },
    "language_info": {
      "name": "python"
    }
  },
  "cells": [
    {
      "cell_type": "markdown",
      "metadata": {
        "id": "view-in-github",
        "colab_type": "text"
      },
      "source": [
        "<a href=\"https://colab.research.google.com/github/leeys007/study_pythons/blob/main/codes/quests/40_primetive_ifs.ipynb\" target=\"_parent\"><img src=\"https://colab.research.google.com/assets/colab-badge.svg\" alt=\"Open In Colab\"/></a>"
      ]
    },
    {
      "cell_type": "markdown",
      "source": [
        "## 점수별 등급 산정"
      ],
      "metadata": {
        "id": "d1cNY4cEyTvh"
      }
    },
    {
      "cell_type": "code",
      "execution_count": 4,
      "metadata": {
        "colab": {
          "base_uri": "https://localhost:8080/"
        },
        "id": "bBcBlecIyD9r",
        "outputId": "3f375ff2-4cf5-499e-dd8d-877ecb5c1ebc"
      },
      "outputs": [
        {
          "output_type": "stream",
          "name": "stdout",
          "text": [
            "점수를 입력하세요 : 4.3\n",
            "당신의 등급은 A입니다\n"
          ]
        }
      ],
      "source": [
        "score = float(input(\"점수를 입력하세요 : \"))\n",
        "if score > 4.5 :\n",
        "  print('점수를 다시 입력하세요!')\n",
        "elif score >= 4.1 :\n",
        "  print('당신의 등급은 A입니다')\n",
        "elif score >= 3.6 :\n",
        "  print('당신의 등급은 B입니다')\n",
        "elif score >= 3.1 :\n",
        "  print('당신의 등급은 C입니다')\n",
        "elif score >= 2.6 :\n",
        "  print('당신의 등급은 D입니다')\n",
        "else :\n",
        "  print('당신의 등급은 F입니다')"
      ]
    },
    {
      "cell_type": "code",
      "source": [],
      "metadata": {
        "id": "TW-sI3Zh0uTC"
      },
      "execution_count": null,
      "outputs": []
    }
  ]
}