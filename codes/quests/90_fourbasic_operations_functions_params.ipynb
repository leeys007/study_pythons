{
  "nbformat": 4,
  "nbformat_minor": 0,
  "metadata": {
    "colab": {
      "provenance": [],
      "authorship_tag": "ABX9TyMI1QHyk4Zz8AjdpReKFN/M",
      "include_colab_link": true
    },
    "kernelspec": {
      "name": "python3",
      "display_name": "Python 3"
    },
    "language_info": {
      "name": "python"
    }
  },
  "cells": [
    {
      "cell_type": "markdown",
      "metadata": {
        "id": "view-in-github",
        "colab_type": "text"
      },
      "source": [
        "<a href=\"https://colab.research.google.com/github/leeys007/study_pythons/blob/main/codes/quests/90_fourbasic_operations_functions_params.ipynb\" target=\"_parent\"><img src=\"https://colab.research.google.com/assets/colab-badge.svg\" alt=\"Open In Colab\"/></a>"
      ]
    },
    {
      "cell_type": "markdown",
      "source": [
        "## 함수화한 사칙연산기"
      ],
      "metadata": {
        "id": "5_FIyBBTuoGC"
      }
    },
    {
      "cell_type": "code",
      "execution_count": 4,
      "metadata": {
        "id": "hExb7cqO-RU3"
      },
      "outputs": [],
      "source": [
        "def add(input_first, input_second) :    # call by values\n",
        "  result_plus = input_first + input_second\n",
        "  print(f'{result_plus} = {input_first} + {input_second}')\n",
        "\n",
        "def subtract(input_first, input_second) :    # 뺄셈 함수\n",
        "  result_minus = input_first - input_second\n",
        "  print(f'{result_minus} = {input_first} - {input_second}')\n",
        "\n",
        "def multiply(input_first, input_second) :    # 곱셈 함수\n",
        "  result_multiple = input_first * input_second\n",
        "  print(f'{result_multiple} = {input_first} * {input_second}')\n",
        "\n",
        "def divide(input_first, input_second) :    # 나눗셈 함수\n",
        "  result_division = input_first / input_second\n",
        "  print(f'{result_division} = {input_first} / {input_second}')"
      ]
    },
    {
      "cell_type": "code",
      "source": [
        "a = int(input('input_first : '))\n",
        "b = int(input('input_second : '))"
      ],
      "metadata": {
        "colab": {
          "base_uri": "https://localhost:8080/"
        },
        "id": "JWxMK-uLtUtA",
        "outputId": "3460f304-93d2-4ed6-dac6-ac33d6afbc1c"
      },
      "execution_count": 2,
      "outputs": [
        {
          "name": "stdout",
          "output_type": "stream",
          "text": [
            "input_first : 4\n",
            "input_second : 5\n"
          ]
        }
      ]
    },
    {
      "cell_type": "code",
      "source": [
        "add(a, b)\n",
        "subtract(a, b)\n",
        "multiply(a, b)\n",
        "divide(a, b)\n",
        "\n"
      ],
      "metadata": {
        "colab": {
          "base_uri": "https://localhost:8080/"
        },
        "id": "Fvd6cUxsuHJa",
        "outputId": "51088e00-c612-4e8e-bce6-702099fbe155"
      },
      "execution_count": 5,
      "outputs": [
        {
          "output_type": "stream",
          "name": "stdout",
          "text": [
            "9 = 4 + 5\n",
            "-1 = 4 - 5\n",
            "20 = 4 * 5\n",
            "0.8 = 4 / 5\n"
          ]
        }
      ]
    }
  ]
}