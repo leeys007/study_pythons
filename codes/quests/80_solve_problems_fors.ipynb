{
  "nbformat": 4,
  "nbformat_minor": 0,
  "metadata": {
    "colab": {
      "provenance": [],
      "authorship_tag": "ABX9TyOe6xQKMwsyeMFsKPvFx4eW",
      "include_colab_link": true
    },
    "kernelspec": {
      "name": "python3",
      "display_name": "Python 3"
    },
    "language_info": {
      "name": "python"
    }
  },
  "cells": [
    {
      "cell_type": "markdown",
      "metadata": {
        "id": "view-in-github",
        "colab_type": "text"
      },
      "source": [
        "<a href=\"https://colab.research.google.com/github/leeys007/study_pythons/blob/main/codes/quests/80_solve_problems_fors.ipynb\" target=\"_parent\"><img src=\"https://colab.research.google.com/assets/colab-badge.svg\" alt=\"Open In Colab\"/></a>"
      ]
    },
    {
      "cell_type": "markdown",
      "source": [
        "## 문제 풀이"
      ],
      "metadata": {
        "id": "2Xhp1hXK1oMF"
      }
    },
    {
      "cell_type": "code",
      "source": [
        "print(\"문제 : 다음 중 Python의 약속어(키워드)가 아닌 것은 무엇인가요?\")  # 문제 출력\n",
        "choices = [\"def\", \"class\", \"lambda\", \"define\"]   # 선택지 출력\n",
        "choices_number = 1\n",
        "for i in choices :\n",
        "  print(f'       {choices_number}. {i}')\n",
        "  choices_number = choices_number + 1\n",
        "print()\n",
        "input_answer = input(\"사용자 입력 : \")        # 답안 입력 및 정답 또는 오답 판별\n",
        "input_answer = int(input_answer)\n",
        "real_answer = 4\n",
        "if input_answer == real_answer :\n",
        "  print()\n",
        "  print(\"정답입니다!\")\n",
        "else :\n",
        "  print()\n",
        "  print(\"오답입니다\")\n",
        "\n"
      ],
      "metadata": {
        "colab": {
          "base_uri": "https://localhost:8080/"
        },
        "collapsed": true,
        "id": "5-QUd71H14M1",
        "outputId": "b4115709-e371-4c0c-86d1-cf407c1d5efb"
      },
      "execution_count": 25,
      "outputs": [
        {
          "output_type": "stream",
          "name": "stdout",
          "text": [
            "문제 : 다음 중 Python의 약속어(키워드)가 아닌 것은 무엇인가요?\n",
            "       1. def\n",
            "       2. class\n",
            "       3. lambda\n",
            "       4. define\n",
            "\n",
            "사용자 입력 : 4\n",
            "\n",
            "정답입니다!\n"
          ]
        }
      ]
    }
  ]
}