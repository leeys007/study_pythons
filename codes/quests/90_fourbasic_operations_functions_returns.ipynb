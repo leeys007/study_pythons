{
  "nbformat": 4,
  "nbformat_minor": 0,
  "metadata": {
    "colab": {
      "provenance": [],
      "authorship_tag": "ABX9TyOSghVyNMDuBO/67ORqVOg4",
      "include_colab_link": true
    },
    "kernelspec": {
      "name": "python3",
      "display_name": "Python 3"
    },
    "language_info": {
      "name": "python"
    }
  },
  "cells": [
    {
      "cell_type": "markdown",
      "metadata": {
        "id": "view-in-github",
        "colab_type": "text"
      },
      "source": [
        "<a href=\"https://colab.research.google.com/github/leeys007/study_pythons/blob/main/codes/quests/90_fourbasic_operations_functions_returns.ipynb\" target=\"_parent\"><img src=\"https://colab.research.google.com/assets/colab-badge.svg\" alt=\"Open In Colab\"/></a>"
      ]
    },
    {
      "cell_type": "markdown",
      "source": [
        "## 마이크로 함수로 분할하고 각 연산 후엔 출력하는 공통 함수 작성"
      ],
      "metadata": {
        "id": "iBdE2j7x-E2E"
      }
    },
    {
      "cell_type": "code",
      "source": [
        "first = 4\n",
        "second = 6"
      ],
      "metadata": {
        "id": "0r_e6JDC-OoD"
      },
      "execution_count": 5,
      "outputs": []
    },
    {
      "cell_type": "code",
      "execution_count": 12,
      "metadata": {
        "id": "TTs7DvLn93MI"
      },
      "outputs": [],
      "source": [
        "def add(input_first, input_second) :         # 덧셈 함수\n",
        "  result_plus = input_first + input_second\n",
        "  return result_plus\n",
        "\n",
        "def subtract(input_first, input_second) :    # 뺄셈 함수\n",
        "  result_subtract = input_first - input_second\n",
        "  return result_subtract\n",
        "\n",
        "def multiply(input_first, input_second) :    # 곱셈 함수\n",
        "  result_multiply = input_first * input_second\n",
        "  return result_multiply\n",
        "\n",
        "def divide(input_first, input_second) :      # 나눗셈 함수\n",
        "  result_divide = input_first / input_second\n",
        "  return result_divide"
      ]
    },
    {
      "cell_type": "code",
      "source": [
        "print(f'{add(first, second)} / {type(add(first, second))} = {first} + {second}')\n",
        "print(f'{subtract(first, second)} / {type(subtract(first, second))} = {first} - {second}')\n",
        "print(f'{multiply(first, second)} / {type(multiply(first, second))} = {first} * {second}')\n",
        "print(f'{divide(first, second)} / {type(divide(first, second))} = {first} / {second}')"
      ],
      "metadata": {
        "colab": {
          "base_uri": "https://localhost:8080/"
        },
        "id": "fFIzXyR-_gGL",
        "outputId": "97d59889-560c-4b23-ae31-f992fd87fc8c"
      },
      "execution_count": 14,
      "outputs": [
        {
          "output_type": "stream",
          "name": "stdout",
          "text": [
            "10 / <class 'int'> = 4 + 6\n",
            "-2 / <class 'int'> = 4 - 6\n",
            "24 / <class 'int'> = 4 * 6\n",
            "0.6666666666666666 / <class 'float'> = 4 / 6\n"
          ]
        }
      ]
    }
  ]
}