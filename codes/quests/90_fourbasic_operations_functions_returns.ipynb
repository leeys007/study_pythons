{
  "nbformat": 4,
  "nbformat_minor": 0,
  "metadata": {
    "colab": {
      "provenance": [],
      "authorship_tag": "ABX9TyNqKUPwwTwh275mcR7LJzvS",
      "include_colab_link": true
    },
    "kernelspec": {
      "name": "python3",
      "display_name": "Python 3"
    },
    "language_info": {
      "name": "python"
    }
  },
  "cells": [
    {
      "cell_type": "markdown",
      "metadata": {
        "id": "view-in-github",
        "colab_type": "text"
      },
      "source": [
        "<a href=\"https://colab.research.google.com/github/leeys007/study_pythons/blob/main/codes/quests/90_fourbasic_operations_functions_returns.ipynb\" target=\"_parent\"><img src=\"https://colab.research.google.com/assets/colab-badge.svg\" alt=\"Open In Colab\"/></a>"
      ]
    },
    {
      "cell_type": "markdown",
      "source": [
        "## 마이크로 함수로 분할하고 각 연산 후엔 출력하는 공통 함수 작성"
      ],
      "metadata": {
        "id": "iBdE2j7x-E2E"
      }
    },
    {
      "cell_type": "code",
      "source": [
        "first = 4\n",
        "second = 6\n",
        "result_plus = add(first, second)\n",
        "result_subtract = subtract(first, second)\n",
        "result_multiply = multiply(first, second)\n",
        "result_divide = divide(first, second)"
      ],
      "metadata": {
        "id": "0r_e6JDC-OoD"
      },
      "execution_count": 19,
      "outputs": []
    },
    {
      "cell_type": "code",
      "execution_count": 21,
      "metadata": {
        "id": "TTs7DvLn93MI"
      },
      "outputs": [],
      "source": [
        "def add(input_first, input_second) :         # 덧셈 함수\n",
        "  result_plus = input_first + input_second\n",
        "  return result_plus\n",
        "\n",
        "def subtract(input_first, input_second) :    # 뺄셈 함수\n",
        "  result_subtract = input_first - input_second\n",
        "  return result_subtract\n",
        "\n",
        "def multiply(input_first, input_second) :    # 곱셈 함수\n",
        "  result_multiply = input_first * input_second\n",
        "  return result_multiply\n",
        "\n",
        "def divide(input_first, input_second) :      # 나눗셈 함수\n",
        "  result_divide = input_first / input_second\n",
        "  return result_divide"
      ]
    },
    {
      "cell_type": "code",
      "source": [
        "print(f'{result_plus} / {type(result_plus)} = {first} + {second}')\n",
        "print(f'{result_subtract} / {type(result_subtract)} = {first} - {second}')\n",
        "print(f'{result_multiply} / {type(result_multiply)} = {first} * {second}')\n",
        "print(f'{result_divide} / {type(result_divide)} = {first} / {second}')"
      ],
      "metadata": {
        "colab": {
          "base_uri": "https://localhost:8080/"
        },
        "id": "fFIzXyR-_gGL",
        "outputId": "8fd18db4-3d0a-4237-9b3f-250e263a3e16"
      },
      "execution_count": 24,
      "outputs": [
        {
          "output_type": "stream",
          "name": "stdout",
          "text": [
            "10 / <class 'int'> = 4 + 6\n",
            "-2 / <class 'int'> = 4 - 6\n",
            "24 / <class 'int'> = 4 * 6\n",
            "0.6666666666666666 / <class 'float'> = 4 / 6\n"
          ]
        }
      ]
    },
    {
      "cell_type": "markdown",
      "source": [],
      "metadata": {
        "id": "oNctJyDHF_YX"
      }
    }
  ]
}