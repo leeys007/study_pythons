{
  "nbformat": 4,
  "nbformat_minor": 0,
  "metadata": {
    "colab": {
      "provenance": [],
      "authorship_tag": "ABX9TyN7my3UYhaQGp9PJ95IgxYK",
      "include_colab_link": true
    },
    "kernelspec": {
      "name": "python3",
      "display_name": "Python 3"
    },
    "language_info": {
      "name": "python"
    }
  },
  "cells": [
    {
      "cell_type": "markdown",
      "metadata": {
        "id": "view-in-github",
        "colab_type": "text"
      },
      "source": [
        "<a href=\"https://colab.research.google.com/github/leeys007/study_pythons/blob/main/codes/quests/91_variables_list_sportnames.ipynb\" target=\"_parent\"><img src=\"https://colab.research.google.com/assets/colab-badge.svg\" alt=\"Open In Colab\"/></a>"
      ]
    },
    {
      "cell_type": "markdown",
      "source": [
        "## 리스트 입력기"
      ],
      "metadata": {
        "id": "1q5P8Xq9mmXu"
      }
    },
    {
      "cell_type": "code",
      "source": [
        "def sports_input(sports_name) :\n",
        "  while True :\n",
        "    sports_name = input('좋아하는 스포츠를 입력하세요 : ')\n",
        "    if sports_name != 'exit':\n",
        "      sports_names.append(sports_name)\n",
        "    else :\n",
        "      break\n",
        "\n",
        "sports_names = []\n",
        "sports_input(sports_name)\n",
        "print(f'내가 좋아하는 스포츠는 {sports_names} 입니다.')"
      ],
      "metadata": {
        "colab": {
          "base_uri": "https://localhost:8080/"
        },
        "id": "XEb4IkQLvg6a",
        "outputId": "4255d311-d2bf-4b39-8496-ee0871e730fa"
      },
      "execution_count": 10,
      "outputs": [
        {
          "output_type": "stream",
          "name": "stdout",
          "text": [
            "좋아하는 스포츠를 입력하세요 : 축구\n",
            "좋아하는 스포츠를 입력하세요 : 야구\n",
            "좋아하는 스포츠를 입력하세요 : 농구\n",
            "좋아하는 스포츠를 입력하세요 : exit\n",
            "내가 좋아하는 스포츠는 ['축구', '야구', '농구'] 입니다.\n"
          ]
        }
      ]
    }
  ]
}