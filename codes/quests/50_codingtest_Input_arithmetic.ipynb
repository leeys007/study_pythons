{
  "nbformat": 4,
  "nbformat_minor": 0,
  "metadata": {
    "colab": {
      "provenance": [],
      "authorship_tag": "ABX9TyMPGDrwIrzwKmYLuiFCTeUl",
      "include_colab_link": true
    },
    "kernelspec": {
      "name": "python3",
      "display_name": "Python 3"
    },
    "language_info": {
      "name": "python"
    }
  },
  "cells": [
    {
      "cell_type": "markdown",
      "metadata": {
        "id": "view-in-github",
        "colab_type": "text"
      },
      "source": [
        "<a href=\"https://colab.research.google.com/github/leeys007/study_pythons/blob/main/codes/quests/50_codingtest_Input_arithmetic.ipynb\" target=\"_parent\"><img src=\"https://colab.research.google.com/assets/colab-badge.svg\" alt=\"Open In Colab\"/></a>"
      ]
    },
    {
      "cell_type": "markdown",
      "source": [
        "# 불기 연도를 서기 연도로 변환"
      ],
      "metadata": {
        "id": "F0rS3IjB3zq6"
      }
    },
    {
      "cell_type": "code",
      "execution_count": 3,
      "metadata": {
        "colab": {
          "base_uri": "https://localhost:8080/"
        },
        "id": "FEgMTBMe3nn9",
        "outputId": "0a067f0f-8195-4a43-d63f-16068934b52b"
      },
      "outputs": [
        {
          "output_type": "stream",
          "name": "stdout",
          "text": [
            "불기 연도를 입력하세요 :  2530\n",
            "불기 2530년은 서기 1987년 입니다.\n"
          ]
        }
      ],
      "source": [
        "year_buddhism = int(input('불기 연도를 입력하세요 :  '))\n",
        "if (year_buddhism > 1000) and (year_buddhism < 3000) :\n",
        "  year_ad = year_buddhism - 543\n",
        "  print(f'불기 {year_buddhism}년은 서기 {year_ad}년 입니다.')\n",
        "else :\n",
        "  print('불기 연도(1000 ~ 3000)를 범위에 맞게 다시 입력해 주세요!')"
      ]
    }
  ]
}