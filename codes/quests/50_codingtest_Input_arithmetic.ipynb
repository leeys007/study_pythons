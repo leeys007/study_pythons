{
  "nbformat": 4,
  "nbformat_minor": 0,
  "metadata": {
    "colab": {
      "provenance": [],
      "authorship_tag": "ABX9TyNuzhZaDfm1N+cCbPSBJM28",
      "include_colab_link": true
    },
    "kernelspec": {
      "name": "python3",
      "display_name": "Python 3"
    },
    "language_info": {
      "name": "python"
    }
  },
  "cells": [
    {
      "cell_type": "markdown",
      "metadata": {
        "id": "view-in-github",
        "colab_type": "text"
      },
      "source": [
        "<a href=\"https://colab.research.google.com/github/leeys007/study_pythons/blob/main/codes/quests/50_codingtest_Input_arithmetic.ipynb\" target=\"_parent\"><img src=\"https://colab.research.google.com/assets/colab-badge.svg\" alt=\"Open In Colab\"/></a>"
      ]
    },
    {
      "cell_type": "markdown",
      "source": [
        "# 불기 연도를 서기 연도로 변환"
      ],
      "metadata": {
        "id": "F0rS3IjB3zq6"
      }
    },
    {
      "cell_type": "code",
      "execution_count": null,
      "metadata": {
        "id": "FEgMTBMe3nn9"
      },
      "outputs": [],
      "source": [
        "year_buddhism = int(input('불기 연도를 입력하세요 :  '))\n",
        "if (year_buddhism > 1000) and (year_buddhism < 3000)"
      ]
    }
  ]
}