{
  "nbformat": 4,
  "nbformat_minor": 0,
  "metadata": {
    "colab": {
      "provenance": [],
      "authorship_tag": "ABX9TyPGlq871OvrGmJzFHt3d2BT",
      "include_colab_link": true
    },
    "kernelspec": {
      "name": "python3",
      "display_name": "Python 3"
    },
    "language_info": {
      "name": "python"
    }
  },
  "cells": [
    {
      "cell_type": "markdown",
      "metadata": {
        "id": "view-in-github",
        "colab_type": "text"
      },
      "source": [
        "<a href=\"https://colab.research.google.com/github/leeys007/study_pythons/blob/main/codes/quests/70_fourbasic_operations_whiles.ipynb\" target=\"_parent\"><img src=\"https://colab.research.google.com/assets/colab-badge.svg\" alt=\"Open In Colab\"/></a>"
      ]
    },
    {
      "cell_type": "markdown",
      "source": [
        "## 사칙연산 계산기\n",
        "   -  무한 계산기, 'q' 프로그램 종료"
      ],
      "metadata": {
        "id": "Qk_uV4519XgR"
      }
    },
    {
      "cell_type": "code",
      "execution_count": 4,
      "metadata": {
        "id": "gyj9oImk9OQw",
        "colab": {
          "base_uri": "https://localhost:8080/"
        },
        "outputId": "e2c9d9f4-a02f-4260-ec90-6184b5f24005"
      },
      "outputs": [
        {
          "output_type": "stream",
          "name": "stdout",
          "text": [
            "program start!\n",
            "a = 2\n",
            "b = 3\n",
            "a + b = 5, <class 'int'>\n",
            "a - b = -1, <class 'int'>\n",
            "a * b = 6, <class 'int'>\n",
            "a / b = 0.6666666666666666, <class 'float'>\n",
            "a % b = 2, <class 'int'>\n",
            "a = q\n",
            "program end!\n"
          ]
        }
      ],
      "source": [
        "print('program start!')\n",
        "while True :\n",
        "    a = input('a = ')\n",
        "    if a == 'q' :\n",
        "        break\n",
        "    a = int(a)\n",
        "    b = int(input('b = '))\n",
        "    print(f'a + b = {a + b}, {type(a+b)}')\n",
        "    print(f'a - b = {a - b}, {type(a-b)}')\n",
        "    print(f'a * b = {a * b}, {type(a*b)}')\n",
        "    print(f'a / b = {a / b}, {type(a/b)}')\n",
        "    print(f'a % b = {a % b}, {type(a%b)}')\n",
        "\n",
        "print('program end!')"
      ]
    }
  ]
}