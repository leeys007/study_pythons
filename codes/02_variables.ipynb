{
  "nbformat": 4,
  "nbformat_minor": 0,
  "metadata": {
    "colab": {
      "provenance": [],
      "authorship_tag": "ABX9TyN3c+sGEsneNobp5K90yMR9",
      "include_colab_link": true
    },
    "kernelspec": {
      "name": "python3",
      "display_name": "Python 3"
    },
    "language_info": {
      "name": "python"
    }
  },
  "cells": [
    {
      "cell_type": "markdown",
      "metadata": {
        "id": "view-in-github",
        "colab_type": "text"
      },
      "source": [
        "<a href=\"https://colab.research.google.com/github/leeys007/study_pythons/blob/main/codes/02_variables.ipynb\" target=\"_parent\"><img src=\"https://colab.research.google.com/assets/colab-badge.svg\" alt=\"Open In Colab\"/></a>"
      ]
    },
    {
      "cell_type": "markdown",
      "source": [
        "## 변수 재사용"
      ],
      "metadata": {
        "id": "Xr0MSNxpyTwK"
      }
    },
    {
      "cell_type": "code",
      "execution_count": null,
      "metadata": {
        "colab": {
          "base_uri": "https://localhost:8080/"
        },
        "id": "VxBqa3rOtLwh",
        "outputId": "fc7e74fb-b8e9-45fc-b062-e092ff565475"
      },
      "outputs": [
        {
          "output_type": "stream",
          "name": "stdout",
          "text": [
            "1 0 2\n"
          ]
        }
      ],
      "source": [
        "first_string=\"1\"\n",
        "second_string=\"0\"\n",
        "third_string=\"2\"\n",
        "print(first_string, second_string, third_string)"
      ]
    },
    {
      "cell_type": "code",
      "source": [
        "temp_string=first_string\n",
        "first_string=second_string\n",
        "second_string=temp_string\n",
        "print(first_string, second_string, third_string)"
      ],
      "metadata": {
        "colab": {
          "base_uri": "https://localhost:8080/"
        },
        "id": "1SiQvWXxtxRB",
        "outputId": "bba33fb9-f692-47f8-9ea8-7999534bedbc"
      },
      "execution_count": null,
      "outputs": [
        {
          "output_type": "stream",
          "name": "stdout",
          "text": [
            "0 1 2\n"
          ]
        }
      ]
    },
    {
      "cell_type": "code",
      "source": [
        "temp_string=first_string\n",
        "first_string=third_string\n",
        "third_string=temp_string\n",
        "print(first_string, second_string, third_string)"
      ],
      "metadata": {
        "colab": {
          "base_uri": "https://localhost:8080/"
        },
        "id": "DDiGNJT9xBFp",
        "outputId": "bd1a5f1a-6021-4d89-b889-bc0fdc6a6665"
      },
      "execution_count": null,
      "outputs": [
        {
          "output_type": "stream",
          "name": "stdout",
          "text": [
            "2 1 0\n"
          ]
        }
      ]
    },
    {
      "cell_type": "code",
      "source": [
        "temp_string=third_string\n",
        "third_string=second_string\n",
        "second_string=temp_string\n",
        "print(first_string, second_string, third_string)"
      ],
      "metadata": {
        "colab": {
          "base_uri": "https://localhost:8080/"
        },
        "id": "zA7ULJ3SxsuB",
        "outputId": "82ac0e90-3611-494d-b91f-338a88a93834"
      },
      "execution_count": null,
      "outputs": [
        {
          "output_type": "stream",
          "name": "stdout",
          "text": [
            "2 0 1\n"
          ]
        }
      ]
    },
    {
      "cell_type": "markdown",
      "source": [
        "## 외부 값 입력"
      ],
      "metadata": {
        "id": "wHfD7wknGp2p"
      }
    },
    {
      "cell_type": "markdown",
      "source": [
        "### 변수 값 종류 확인"
      ],
      "metadata": {
        "id": "iBsF0E4wG-gJ"
      }
    },
    {
      "cell_type": "code",
      "source": [
        "first = 'first_value'\n",
        "second = '5'\n",
        "third = 3\n",
        "print_string = f'first : {first}, second : {second}, third : {third}'\n",
        "print(print_string)\n"
      ],
      "metadata": {
        "colab": {
          "base_uri": "https://localhost:8080/"
        },
        "id": "07gqoudWGx94",
        "outputId": "fa5a151b-77f7-4253-f402-241e5e25e236"
      },
      "execution_count": null,
      "outputs": [
        {
          "output_type": "stream",
          "name": "stdout",
          "text": [
            "first : first_value, second : 5, third : 3\n"
          ]
        }
      ]
    },
    {
      "cell_type": "code",
      "source": [
        "# second + third\n",
        "# type(5), type('5'), type(4.5)\n",
        "print_string = f'first : {first}-{type(first)}, second : {second}-{type(second)}, third : {third}-{type(third)}'\n",
        "print(print_string)"
      ],
      "metadata": {
        "colab": {
          "base_uri": "https://localhost:8080/"
        },
        "id": "c6Gf_FTkImFA",
        "outputId": "3ae51fce-a9f4-4b6a-eac2-690134475a7d"
      },
      "execution_count": null,
      "outputs": [
        {
          "output_type": "stream",
          "name": "stdout",
          "text": [
            "first : first_value-<class 'str'>, second : 5-<class 'str'>, third : 3-<class 'int'>\n"
          ]
        }
      ]
    },
    {
      "cell_type": "markdown",
      "source": [
        "### datatype 변경"
      ],
      "metadata": {
        "id": "7kDRqHJdK9EK"
      }
    },
    {
      "cell_type": "code",
      "source": [
        "# int(second)\n",
        "second_value = int(second)\n",
        "print(f'{second_value} / {type(second_value)}')"
      ],
      "metadata": {
        "colab": {
          "base_uri": "https://localhost:8080/"
        },
        "id": "LRTM0GxpLE6B",
        "outputId": "26a05416-51f7-4afd-ecbf-39902a0f2fab"
      },
      "execution_count": null,
      "outputs": [
        {
          "output_type": "stream",
          "name": "stdout",
          "text": [
            "5 / <class 'int'>\n"
          ]
        }
      ]
    },
    {
      "cell_type": "markdown",
      "source": [],
      "metadata": {
        "id": "s2Ee4g0aLCZI"
      }
    },
    {
      "cell_type": "code",
      "source": [
        "result = second_value + third\n",
        "print(f'{result} - {type(result)}')"
      ],
      "metadata": {
        "colab": {
          "base_uri": "https://localhost:8080/"
        },
        "id": "ZQZ_JzJHMJ4a",
        "outputId": "92e6d82f-2511-462a-ac58-f0463d2f10d4"
      },
      "execution_count": null,
      "outputs": [
        {
          "output_type": "stream",
          "name": "stdout",
          "text": [
            "8 - <class 'int'>\n"
          ]
        }
      ]
    },
    {
      "cell_type": "code",
      "source": [
        "result_value = str(result)\n",
        "print(f'{result_value} - {type(result_value)}')"
      ],
      "metadata": {
        "colab": {
          "base_uri": "https://localhost:8080/"
        },
        "id": "KMv7F3WWN1cK",
        "outputId": "47d1eb17-c143-4d36-b010-b76e1fbb5e5e"
      },
      "execution_count": null,
      "outputs": [
        {
          "output_type": "stream",
          "name": "stdout",
          "text": [
            "8 - <class 'str'>\n"
          ]
        }
      ]
    },
    {
      "cell_type": "code",
      "source": [
        "int(first)"
      ],
      "metadata": {
        "colab": {
          "base_uri": "https://localhost:8080/",
          "height": 145
        },
        "id": "zxPlfchEO2KK",
        "outputId": "32ff71dd-578c-460c-82a2-dc5488657868"
      },
      "execution_count": null,
      "outputs": [
        {
          "output_type": "error",
          "ename": "ValueError",
          "evalue": "invalid literal for int() with base 10: 'first_value'",
          "traceback": [
            "\u001b[0;31m---------------------------------------------------------------------------\u001b[0m",
            "\u001b[0;31mValueError\u001b[0m                                Traceback (most recent call last)",
            "\u001b[0;32m<ipython-input-46-cae97ee0b893>\u001b[0m in \u001b[0;36m<cell line: 0>\u001b[0;34m()\u001b[0m\n\u001b[0;32m----> 1\u001b[0;31m \u001b[0mint\u001b[0m\u001b[0;34m(\u001b[0m\u001b[0mfirst\u001b[0m\u001b[0;34m)\u001b[0m\u001b[0;34m\u001b[0m\u001b[0;34m\u001b[0m\u001b[0m\n\u001b[0m",
            "\u001b[0;31mValueError\u001b[0m: invalid literal for int() with base 10: 'first_value'"
          ]
        }
      ]
    },
    {
      "cell_type": "markdown",
      "source": [
        "### input()"
      ],
      "metadata": {
        "id": "xdT2d19PPKmx"
      }
    },
    {
      "cell_type": "code",
      "source": [
        "# input()\n",
        "fourth = input()\n",
        "print(f'{fourth} - {type(fourth)}')"
      ],
      "metadata": {
        "colab": {
          "base_uri": "https://localhost:8080/"
        },
        "id": "9YQ_FcwiPJ2x",
        "outputId": "6e971e72-7779-48dc-8b81-9efc61ffa456"
      },
      "execution_count": null,
      "outputs": [
        {
          "output_type": "stream",
          "name": "stdout",
          "text": [
            "345\n",
            "345 - <class 'str'>\n"
          ]
        }
      ]
    },
    {
      "cell_type": "code",
      "source": [
        "# fourth + third\n",
        "int(fourth) + third  # datatype casting"
      ],
      "metadata": {
        "id": "spGOUFsUPPHy",
        "colab": {
          "base_uri": "https://localhost:8080/"
        },
        "outputId": "ddb4542a-9580-4521-c5bb-f319a258efde"
      },
      "execution_count": null,
      "outputs": [
        {
          "output_type": "execute_result",
          "data": {
            "text/plain": [
              "348"
            ]
          },
          "metadata": {},
          "execution_count": 52
        }
      ]
    },
    {
      "cell_type": "markdown",
      "source": [
        "### toy quest\n",
        "### 외부에서 숫자 두 개를 받아 덧셈 연산"
      ],
      "metadata": {
        "id": "bkwnHGdnT-m7"
      }
    },
    {
      "cell_type": "code",
      "source": [
        "input_first = input('input_first')\n",
        "input_second = input('input_second')\n",
        "# print(f'{input_first} / {type(input_first)}')\n",
        "# print(f'{input_second} / {type(input_second)}')\n",
        "input_first_value = int(input_first)\n",
        "input_second_value = int(input_second)\n",
        "result = input_first_value + input_second_value\n",
        "print(f'{result} = {input_first_value} + {input_second_value}')"
      ],
      "metadata": {
        "colab": {
          "base_uri": "https://localhost:8080/"
        },
        "id": "PPmNZ3zHUO96",
        "outputId": "ceaf9948-ab21-4c1b-c3ad-434d97047cfd"
      },
      "execution_count": null,
      "outputs": [
        {
          "output_type": "stream",
          "name": "stdout",
          "text": [
            "input_first4\n",
            "input_second5\n",
            "9 = 4 + 5\n"
          ]
        }
      ]
    },
    {
      "cell_type": "markdown",
      "source": [
        "### 사칙연산"
      ],
      "metadata": {
        "id": "bHXMml3QXa3T"
      }
    },
    {
      "cell_type": "code",
      "source": [
        "a = int(input('a = '))\n",
        "b = int(input('b = '))\n",
        "print(f'a + b = {a + b}, {type(a+b)}')\n",
        "print(f'a - b = {a - b}, {type(a-b)}')\n",
        "print(f'a * b = {a * b}, {type(a*b)}')\n",
        "print(f'a / b = {a / b}, {type(a/b)}')\n",
        "print(f'a % b = {a % b}, {type(a%b)}')"
      ],
      "metadata": {
        "colab": {
          "base_uri": "https://localhost:8080/"
        },
        "id": "lTv44Xm1XgRL",
        "outputId": "c972cdb9-8442-434d-988e-110be786ed79"
      },
      "execution_count": null,
      "outputs": [
        {
          "output_type": "stream",
          "name": "stdout",
          "text": [
            "a = 7\n",
            "b = 3\n",
            "a + b = 10, <class 'int'>\n",
            "a - b = 4, <class 'int'>\n",
            "a * b = 21, <class 'int'>\n",
            "a / b = 2.3333333333333335, <class 'float'>\n",
            "a % b = 1, <class 'int'>\n"
          ]
        }
      ]
    },
    {
      "cell_type": "markdown",
      "source": [
        "## booleans"
      ],
      "metadata": {
        "id": "wB3mUtd4hW7k"
      }
    },
    {
      "cell_type": "markdown",
      "source": [
        "### true or false"
      ],
      "metadata": {
        "id": "9kTzsVWZhcIu"
      }
    },
    {
      "cell_type": "code",
      "source": [
        "first = True\n",
        "second = False\n",
        "# first = true   # error\n",
        "# second = false  # error\n",
        "first = bool(1)   # '0' 이외의 숫자는 True\n",
        "second = bool(0)\n",
        "print(f'first : {first} / {type(first)}, second : {second} / {type(second)}')"
      ],
      "metadata": {
        "colab": {
          "base_uri": "https://localhost:8080/"
        },
        "id": "W2lasdCAhg_0",
        "outputId": "9aac3f29-3a91-4979-9980-d9a83787747d"
      },
      "execution_count": null,
      "outputs": [
        {
          "output_type": "stream",
          "name": "stdout",
          "text": [
            "first : True / <class 'bool'>, second : False / <class 'bool'>\n"
          ]
        }
      ]
    },
    {
      "cell_type": "code",
      "source": [
        "not first, not second"
      ],
      "metadata": {
        "colab": {
          "base_uri": "https://localhost:8080/"
        },
        "id": "ximypRMh3PVx",
        "outputId": "cbbdc672-5517-47c3-da6a-54810b78afee"
      },
      "execution_count": null,
      "outputs": [
        {
          "output_type": "execute_result",
          "data": {
            "text/plain": [
              "(False, True)"
            ]
          },
          "metadata": {},
          "execution_count": 4
        }
      ]
    },
    {
      "cell_type": "markdown",
      "source": [
        "### 부등호와 boolean"
      ],
      "metadata": {
        "id": "RmzJjTIcj6M1"
      }
    },
    {
      "cell_type": "code",
      "source": [
        "5 < 7  # 5는 7보다 작다"
      ],
      "metadata": {
        "colab": {
          "base_uri": "https://localhost:8080/"
        },
        "id": "7_YMgxYdkBmN",
        "outputId": "4fb81847-5559-4fe7-e544-7934b5bbf0ae"
      },
      "execution_count": null,
      "outputs": [
        {
          "output_type": "execute_result",
          "data": {
            "text/plain": [
              "True"
            ]
          },
          "metadata": {},
          "execution_count": 61
        }
      ]
    },
    {
      "cell_type": "code",
      "source": [
        "5 > 7, 5 < 7, 5 == 7, 5 <= 7, 5 >= 7, 5 != 7"
      ],
      "metadata": {
        "colab": {
          "base_uri": "https://localhost:8080/"
        },
        "id": "Ke4RAKyCkuF-",
        "outputId": "dfd28801-e540-4cd2-8e77-958d7962d407"
      },
      "execution_count": null,
      "outputs": [
        {
          "output_type": "execute_result",
          "data": {
            "text/plain": [
              "(False, True, False, True, False, True)"
            ]
          },
          "metadata": {},
          "execution_count": 7
        }
      ]
    },
    {
      "cell_type": "code",
      "source": [
        "first = 5\n",
        "second = 7\n",
        "first > second, first < second, first == second, first <= second, first >= second, first != second"
      ],
      "metadata": {
        "colab": {
          "base_uri": "https://localhost:8080/"
        },
        "id": "CwyB5Pthk7Wt",
        "outputId": "722c0210-6ff8-4b25-90a8-b6b53c84b51b"
      },
      "execution_count": null,
      "outputs": [
        {
          "output_type": "execute_result",
          "data": {
            "text/plain": [
              "(False, True, False, True, False, True)"
            ]
          },
          "metadata": {},
          "execution_count": 8
        }
      ]
    },
    {
      "cell_type": "code",
      "source": [
        "not(first > second), not(first < second), not(first == second)"
      ],
      "metadata": {
        "colab": {
          "base_uri": "https://localhost:8080/"
        },
        "id": "zqosFdyz3ofr",
        "outputId": "7891d85e-1d04-4994-cf37-25694c2ff335"
      },
      "execution_count": null,
      "outputs": [
        {
          "output_type": "execute_result",
          "data": {
            "text/plain": [
              "(True, False, True)"
            ]
          },
          "metadata": {},
          "execution_count": 9
        }
      ]
    },
    {
      "cell_type": "markdown",
      "source": [
        "### and 와 or"
      ],
      "metadata": {
        "id": "XQu97FJK4LjT"
      }
    },
    {
      "cell_type": "code",
      "source": [
        "first = 5\n",
        "second = 7\n",
        "third = 10\n",
        "\n",
        "if (first < second) and (second < third) :\n",
        "  a = True\n",
        "  print(a)"
      ],
      "metadata": {
        "colab": {
          "base_uri": "https://localhost:8080/"
        },
        "id": "_aoy1WYJ4RKh",
        "outputId": "c10ce3a8-9c0d-4fe8-9f81-f24fdb8beb1e"
      },
      "execution_count": null,
      "outputs": [
        {
          "output_type": "stream",
          "name": "stdout",
          "text": [
            "True\n"
          ]
        }
      ]
    }
  ]
}