{
  "nbformat": 4,
  "nbformat_minor": 0,
  "metadata": {
    "colab": {
      "provenance": [],
      "authorship_tag": "ABX9TyN2z5MQI9JMbhi9ffBSGxu9",
      "include_colab_link": true
    },
    "kernelspec": {
      "name": "python3",
      "display_name": "Python 3"
    },
    "language_info": {
      "name": "python"
    }
  },
  "cells": [
    {
      "cell_type": "markdown",
      "metadata": {
        "id": "view-in-github",
        "colab_type": "text"
      },
      "source": [
        "<a href=\"https://colab.research.google.com/github/leeys007/study_pythons/blob/main/codes/10_primetive.ipynb\" target=\"_parent\"><img src=\"https://colab.research.google.com/assets/colab-badge.svg\" alt=\"Open In Colab\"/></a>"
      ]
    },
    {
      "cell_type": "markdown",
      "source": [
        "# 묶기"
      ],
      "metadata": {
        "id": "4-2Klp4YSYjs"
      }
    },
    {
      "cell_type": "markdown",
      "source": [
        "## 약속어"
      ],
      "metadata": {
        "id": "HXwWNQXwRbIl"
      }
    },
    {
      "cell_type": "code",
      "execution_count": null,
      "metadata": {
        "colab": {
          "base_uri": "https://localhost:8080/"
        },
        "id": "p09hBwNueh8y",
        "outputId": "5cbe8392-ebb5-4d01-c8a4-16375a3e8a46"
      },
      "outputs": [
        {
          "output_type": "execute_result",
          "data": {
            "text/plain": [
              "6"
            ]
          },
          "metadata": {},
          "execution_count": 18
        }
      ],
      "source": [
        "# 고정 불변 숫자 덧셈\n",
        "5 +1"
      ]
    },
    {
      "cell_type": "code",
      "source": [
        "if 5 > 2 :\n",
        "  print(\"Five is greater than two!\")"
      ],
      "metadata": {
        "id": "LxVQ6K1Aeoql",
        "colab": {
          "base_uri": "https://localhost:8080/"
        },
        "outputId": "aa13a74c-4274-43b0-efff-ac241b654de9"
      },
      "execution_count": null,
      "outputs": [
        {
          "output_type": "stream",
          "name": "stdout",
          "text": [
            "Five is greater than two!\n"
          ]
        }
      ]
    },
    {
      "cell_type": "code",
      "source": [
        "if 5 <= 2 :\n",
        "  print(\"Five is greater than two!\")"
      ],
      "metadata": {
        "id": "G-YCqCe2HcwS"
      },
      "execution_count": null,
      "outputs": []
    },
    {
      "cell_type": "markdown",
      "source": [
        "## 변수"
      ],
      "metadata": {
        "id": "7abWoA0BR9FM"
      }
    },
    {
      "cell_type": "code",
      "source": [
        "print(\"Hello\")\n",
        "print(\"Hello World!\")"
      ],
      "metadata": {
        "id": "OFvq5DPtHnt5",
        "colab": {
          "base_uri": "https://localhost:8080/"
        },
        "outputId": "833c8f00-f130-4a5e-cfc9-30a6c156634d"
      },
      "execution_count": null,
      "outputs": [
        {
          "output_type": "stream",
          "name": "stdout",
          "text": [
            "Hello\n",
            "Hello World!\n"
          ]
        }
      ]
    },
    {
      "cell_type": "code",
      "source": [
        "first_string = \"Hello\"\n",
        "print(first_string)\n",
        "second_string = \"Hello world!\"\n",
        "print(second_string)"
      ],
      "metadata": {
        "colab": {
          "base_uri": "https://localhost:8080/"
        },
        "id": "IGp-eDICSB3h",
        "outputId": "99b2bea4-914a-4b7b-f8e5-eba047348eda"
      },
      "execution_count": null,
      "outputs": [
        {
          "output_type": "stream",
          "name": "stdout",
          "text": [
            "Hello\n",
            "Hello world!\n"
          ]
        }
      ]
    },
    {
      "cell_type": "markdown",
      "source": [
        "###용도가 같은 경우 재사용"
      ],
      "metadata": {
        "id": "q4-OxZXpiXX3"
      }
    },
    {
      "cell_type": "code",
      "source": [
        "first_string = \"Hello\"\n",
        "print(first_string)\n",
        "first_string = \"Hello world!\"\n",
        "print(first_string)"
      ],
      "metadata": {
        "colab": {
          "base_uri": "https://localhost:8080/"
        },
        "id": "r6mdJToTiL1B",
        "outputId": "35a781ef-b28a-45f0-d376-d757501849ab"
      },
      "execution_count": null,
      "outputs": [
        {
          "output_type": "stream",
          "name": "stdout",
          "text": [
            "Hello\n",
            "Hello world!\n"
          ]
        }
      ]
    },
    {
      "cell_type": "markdown",
      "source": [
        "### integer"
      ],
      "metadata": {
        "id": "moW8ynXEl54G"
      }
    },
    {
      "cell_type": "code",
      "source": [
        "first_integer = 1\n",
        "print(first_integer)\n",
        "first_integer = 2\n",
        "print(first_integer)"
      ],
      "metadata": {
        "colab": {
          "base_uri": "https://localhost:8080/"
        },
        "id": "TR2tCfP4mDoe",
        "outputId": "20d3557d-e5d9-4167-e4a7-978cea389151"
      },
      "execution_count": null,
      "outputs": [
        {
          "output_type": "stream",
          "name": "stdout",
          "text": [
            "1\n",
            "2\n"
          ]
        }
      ]
    },
    {
      "cell_type": "code",
      "source": [
        "type(first_string), type(first_integer)\n",
        "# print(type(first_string), type(first_integer))와 동일"
      ],
      "metadata": {
        "colab": {
          "base_uri": "https://localhost:8080/"
        },
        "id": "BzlgG2asmwsP",
        "outputId": "e6f76b3c-248b-40ae-803f-1e7091b0c94a"
      },
      "execution_count": null,
      "outputs": [
        {
          "output_type": "execute_result",
          "data": {
            "text/plain": [
              "(str, int)"
            ]
          },
          "metadata": {},
          "execution_count": 35
        }
      ]
    },
    {
      "cell_type": "markdown",
      "source": [
        "### format"
      ],
      "metadata": {
        "id": "F29nZxjSoEXl"
      }
    },
    {
      "cell_type": "code",
      "source": [
        "# f-string\n",
        "third_concats = f\"string : {first_string}, integer : {first_integer}\"\n",
        "print(third_concats)"
      ],
      "metadata": {
        "colab": {
          "base_uri": "https://localhost:8080/"
        },
        "id": "zGYDbmJgoKKN",
        "outputId": "0078beb5-b3d8-476d-de6f-d821ab16da9c"
      },
      "execution_count": null,
      "outputs": [
        {
          "output_type": "stream",
          "name": "stdout",
          "text": [
            "string : Hello world!, integer : 2\n"
          ]
        }
      ]
    }
  ]
}