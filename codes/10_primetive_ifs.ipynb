{
  "nbformat": 4,
  "nbformat_minor": 0,
  "metadata": {
    "colab": {
      "provenance": [],
      "authorship_tag": "ABX9TyNzRbwL+rUqsBm7M9RZ5s5y",
      "include_colab_link": true
    },
    "kernelspec": {
      "name": "python3",
      "display_name": "Python 3"
    },
    "language_info": {
      "name": "python"
    }
  },
  "cells": [
    {
      "cell_type": "markdown",
      "metadata": {
        "id": "view-in-github",
        "colab_type": "text"
      },
      "source": [
        "<a href=\"https://colab.research.google.com/github/leeys007/study_pythons/blob/main/codes/10_primetive_ifs.ipynb\" target=\"_parent\"><img src=\"https://colab.research.google.com/assets/colab-badge.svg\" alt=\"Open In Colab\"/></a>"
      ]
    },
    {
      "cell_type": "markdown",
      "source": [
        "## if\n",
        "```\n",
        "if condition :\n",
        "  action\n",
        "elif condition :\n",
        "  action\n",
        "else :\n",
        "```"
      ],
      "metadata": {
        "id": "NQlmPTx_oOhf"
      }
    },
    {
      "cell_type": "code",
      "execution_count": null,
      "metadata": {
        "colab": {
          "base_uri": "https://localhost:8080/"
        },
        "id": "TBkfZ8uXnb4b",
        "outputId": "a17d419a-8a73-489b-fc77-6c0d9eeac456"
      },
      "outputs": [
        {
          "output_type": "stream",
          "name": "stdout",
          "text": [
            "5 < 7\n"
          ]
        }
      ],
      "source": [
        "if 5 < 7 :\n",
        "  print(f'5 < 7')"
      ]
    },
    {
      "cell_type": "code",
      "source": [
        "first = 5\n",
        "second = 7\n",
        "if first < second :\n",
        "  print(f'{first} < {second}')"
      ],
      "metadata": {
        "colab": {
          "base_uri": "https://localhost:8080/"
        },
        "id": "TTDan_rXpSpf",
        "outputId": "9a2ad3d4-4f03-40d2-93b4-b3b0a8a0cd7a"
      },
      "execution_count": null,
      "outputs": [
        {
          "output_type": "stream",
          "name": "stdout",
          "text": [
            "5 < 7\n"
          ]
        }
      ]
    },
    {
      "cell_type": "code",
      "source": [
        "first = input('first : ')\n",
        "second = input('second : ')\n",
        "first_value = int(first)\n",
        "second_value = int(second)\n",
        "print(f'condition state : {first_value < second_value}')\n",
        "\n",
        "# only if 테스트\n",
        "# if first_value < second_value :\n",
        "#    print(f'compare : {first_value} < {second_value}')\n",
        "\n",
        "# if ... else 테스트\n",
        "# if first_value < second_value :\n",
        "#    print(f'compare : {first_value} < {second_value}')\n",
        "# else :\n",
        "#    print(f'compare : {first_value} > {second_value}')\n",
        "\n",
        "# if  ... elif  ... else 테스트\n",
        "if first_value < second_value :\n",
        "   print(f'compare : {first_value} < {second_value}')\n",
        "elif first_value > second_value :\n",
        "   print(f'compare : {first_value} > {second_value}')\n",
        "else :\n",
        "   print(f'compare : {first_value} == {second_value}')"
      ],
      "metadata": {
        "colab": {
          "base_uri": "https://localhost:8080/"
        },
        "id": "cB6ehpp3ptuH",
        "outputId": "4cde8db4-7164-46d2-ec23-17211e7a9102"
      },
      "execution_count": null,
      "outputs": [
        {
          "output_type": "stream",
          "name": "stdout",
          "text": [
            "first : 124\n",
            "second : 125\n",
            "condition state : True\n",
            "compare : 124 < 125\n"
          ]
        }
      ]
    }
  ]
}